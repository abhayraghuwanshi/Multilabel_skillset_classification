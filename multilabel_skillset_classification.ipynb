{
  "nbformat": 4,
  "nbformat_minor": 0,
  "metadata": {
    "colab": {
      "name": "multilabel_skillset_classification.ipynb",
      "provenance": [],
      "collapsed_sections": [],
      "toc_visible": true,
      "authorship_tag": "ABX9TyOl6ORPGBLE45kJ4/Gh3ZRa",
      "include_colab_link": true
    },
    "kernelspec": {
      "name": "python3",
      "display_name": "Python 3"
    }
  },
  "cells": [
    {
      "cell_type": "markdown",
      "metadata": {
        "id": "view-in-github",
        "colab_type": "text"
      },
      "source": [
        "<a href=\"https://colab.research.google.com/github/abhayraghuwanshi/Skill-Set-Classification/blob/main/multilabel_skillset_classification.ipynb\" target=\"_parent\"><img src=\"https://colab.research.google.com/assets/colab-badge.svg\" alt=\"Open In Colab\"/></a>"
      ]
    },
    {
      "cell_type": "code",
      "metadata": {
        "id": "3oZcL3iUfqzm"
      },
      "source": [
        "import numpy as np # linear algebra\n",
        "import pandas as pd # data processing, CSV file I/O (e.g. pd.read_csv)\n",
        "import matplotlib.pyplot as plt\n",
        "import seaborn as sns"
      ],
      "execution_count": null,
      "outputs": []
    },
    {
      "cell_type": "code",
      "metadata": {
        "id": "Bc2xN-mfggzG",
        "colab": {
          "base_uri": "https://localhost:8080/"
        },
        "outputId": "a709e5d9-44eb-47ec-e081-b53f5a354dac"
      },
      "source": [
        "from google.colab import drive\n",
        "drive.mount('/content/drive')"
      ],
      "execution_count": null,
      "outputs": [
        {
          "output_type": "stream",
          "text": [
            "Drive already mounted at /content/drive; to attempt to forcibly remount, call drive.mount(\"/content/drive\", force_remount=True).\n"
          ],
          "name": "stdout"
        }
      ]
    },
    {
      "cell_type": "code",
      "metadata": {
        "id": "F-Mh1DSOhLnw"
      },
      "source": [
        "import os\n",
        "path = \"/content/drive/My Drive/dataset/\""
      ],
      "execution_count": null,
      "outputs": []
    },
    {
      "cell_type": "code",
      "metadata": {
        "id": "bCEjaYwJgisc"
      },
      "source": [
        "raw_occupation_data = pd.read_excel(os.path.join(path, \"Occupation Data.xlsx\"))\n",
        "raw_skills = pd.read_excel(os.path.join(path, \"Skills.xlsx\"))\n",
        "raw_work_styles = pd.read_excel(os.path.join(path, \"Work Styles.xlsx\"))"
      ],
      "execution_count": null,
      "outputs": []
    },
    {
      "cell_type": "code",
      "metadata": {
        "id": "hiTC4ywShjM_",
        "colab": {
          "base_uri": "https://localhost:8080/",
          "height": 396
        },
        "outputId": "7a886c48-a877-41db-8053-2f777db69cbe"
      },
      "source": [
        "#work style preprocessing all the scale Id are IM\n",
        "work_style_cols = [\"O*NET-SOC Code\", \"Title\", \"Element Name\",\"Scale ID\", \"Data Value\"]\n",
        "work_styles = raw_work_styles.loc[:, work_style_cols ].loc[raw_work_styles[\"Scale ID\"]==\"IM\"]\n",
        "work_styles = work_styles.pivot(index='O*NET-SOC Code', columns=\"Element Name\", values='Data Value')\n",
        "work_styles.head()"
      ],
      "execution_count": null,
      "outputs": [
        {
          "output_type": "execute_result",
          "data": {
            "text/html": [
              "<div>\n",
              "<style scoped>\n",
              "    .dataframe tbody tr th:only-of-type {\n",
              "        vertical-align: middle;\n",
              "    }\n",
              "\n",
              "    .dataframe tbody tr th {\n",
              "        vertical-align: top;\n",
              "    }\n",
              "\n",
              "    .dataframe thead th {\n",
              "        text-align: right;\n",
              "    }\n",
              "</style>\n",
              "<table border=\"1\" class=\"dataframe\">\n",
              "  <thead>\n",
              "    <tr style=\"text-align: right;\">\n",
              "      <th>Element Name</th>\n",
              "      <th>Achievement/Effort</th>\n",
              "      <th>Adaptability/Flexibility</th>\n",
              "      <th>Analytical Thinking</th>\n",
              "      <th>Attention to Detail</th>\n",
              "      <th>Concern for Others</th>\n",
              "      <th>Cooperation</th>\n",
              "      <th>Dependability</th>\n",
              "      <th>Independence</th>\n",
              "      <th>Initiative</th>\n",
              "      <th>Innovation</th>\n",
              "      <th>Integrity</th>\n",
              "      <th>Leadership</th>\n",
              "      <th>Persistence</th>\n",
              "      <th>Self Control</th>\n",
              "      <th>Social Orientation</th>\n",
              "      <th>Stress Tolerance</th>\n",
              "    </tr>\n",
              "    <tr>\n",
              "      <th>O*NET-SOC Code</th>\n",
              "      <th></th>\n",
              "      <th></th>\n",
              "      <th></th>\n",
              "      <th></th>\n",
              "      <th></th>\n",
              "      <th></th>\n",
              "      <th></th>\n",
              "      <th></th>\n",
              "      <th></th>\n",
              "      <th></th>\n",
              "      <th></th>\n",
              "      <th></th>\n",
              "      <th></th>\n",
              "      <th></th>\n",
              "      <th></th>\n",
              "      <th></th>\n",
              "    </tr>\n",
              "  </thead>\n",
              "  <tbody>\n",
              "    <tr>\n",
              "      <th>11-1011.00</th>\n",
              "      <td>4.55</td>\n",
              "      <td>4.20</td>\n",
              "      <td>4.45</td>\n",
              "      <td>4.49</td>\n",
              "      <td>4.22</td>\n",
              "      <td>4.44</td>\n",
              "      <td>4.65</td>\n",
              "      <td>4.54</td>\n",
              "      <td>4.75</td>\n",
              "      <td>4.27</td>\n",
              "      <td>4.80</td>\n",
              "      <td>4.97</td>\n",
              "      <td>4.43</td>\n",
              "      <td>4.52</td>\n",
              "      <td>3.67</td>\n",
              "      <td>4.75</td>\n",
              "    </tr>\n",
              "    <tr>\n",
              "      <th>11-1011.03</th>\n",
              "      <td>4.19</td>\n",
              "      <td>4.23</td>\n",
              "      <td>4.31</td>\n",
              "      <td>4.12</td>\n",
              "      <td>3.48</td>\n",
              "      <td>4.32</td>\n",
              "      <td>4.23</td>\n",
              "      <td>4.27</td>\n",
              "      <td>4.60</td>\n",
              "      <td>4.38</td>\n",
              "      <td>4.58</td>\n",
              "      <td>4.64</td>\n",
              "      <td>4.31</td>\n",
              "      <td>4.00</td>\n",
              "      <td>3.35</td>\n",
              "      <td>4.08</td>\n",
              "    </tr>\n",
              "    <tr>\n",
              "      <th>11-1021.00</th>\n",
              "      <td>4.18</td>\n",
              "      <td>4.09</td>\n",
              "      <td>4.03</td>\n",
              "      <td>4.25</td>\n",
              "      <td>4.06</td>\n",
              "      <td>4.16</td>\n",
              "      <td>4.54</td>\n",
              "      <td>3.99</td>\n",
              "      <td>4.35</td>\n",
              "      <td>3.65</td>\n",
              "      <td>4.30</td>\n",
              "      <td>4.59</td>\n",
              "      <td>4.04</td>\n",
              "      <td>4.31</td>\n",
              "      <td>3.57</td>\n",
              "      <td>4.33</td>\n",
              "    </tr>\n",
              "    <tr>\n",
              "      <th>11-2011.00</th>\n",
              "      <td>4.10</td>\n",
              "      <td>4.42</td>\n",
              "      <td>3.88</td>\n",
              "      <td>4.48</td>\n",
              "      <td>3.81</td>\n",
              "      <td>4.51</td>\n",
              "      <td>4.51</td>\n",
              "      <td>4.04</td>\n",
              "      <td>4.56</td>\n",
              "      <td>3.99</td>\n",
              "      <td>4.17</td>\n",
              "      <td>4.03</td>\n",
              "      <td>4.32</td>\n",
              "      <td>4.18</td>\n",
              "      <td>3.70</td>\n",
              "      <td>4.35</td>\n",
              "    </tr>\n",
              "    <tr>\n",
              "      <th>11-2021.00</th>\n",
              "      <td>4.32</td>\n",
              "      <td>4.31</td>\n",
              "      <td>4.00</td>\n",
              "      <td>4.32</td>\n",
              "      <td>3.37</td>\n",
              "      <td>4.08</td>\n",
              "      <td>4.35</td>\n",
              "      <td>3.88</td>\n",
              "      <td>4.53</td>\n",
              "      <td>4.15</td>\n",
              "      <td>4.17</td>\n",
              "      <td>4.37</td>\n",
              "      <td>4.23</td>\n",
              "      <td>3.87</td>\n",
              "      <td>3.80</td>\n",
              "      <td>4.01</td>\n",
              "    </tr>\n",
              "  </tbody>\n",
              "</table>\n",
              "</div>"
            ],
            "text/plain": [
              "Element Name    Achievement/Effort  ...  Stress Tolerance\n",
              "O*NET-SOC Code                      ...                  \n",
              "11-1011.00                    4.55  ...              4.75\n",
              "11-1011.03                    4.19  ...              4.08\n",
              "11-1021.00                    4.18  ...              4.33\n",
              "11-2011.00                    4.10  ...              4.35\n",
              "11-2021.00                    4.32  ...              4.01\n",
              "\n",
              "[5 rows x 16 columns]"
            ]
          },
          "metadata": {
            "tags": []
          },
          "execution_count": 158
        }
      ]
    },
    {
      "cell_type": "code",
      "metadata": {
        "id": "cNSRPvyqhvqU",
        "colab": {
          "base_uri": "https://localhost:8080/",
          "height": 413
        },
        "outputId": "8e2e46c0-985e-441d-92b9-2146b1aa0533"
      },
      "source": [
        "#skills\n",
        "skills_cols = [\"O*NET-SOC Code\", \"Title\", \"Element Name\",\"Scale ID\", \"Data Value\"]\n",
        "skills = raw_skills.loc[:, skills_cols].loc[raw_skills[\"Scale ID\"]==\"IM\"]\n",
        "skills = skills.pivot(index='O*NET-SOC Code', columns=\"Element Name\", values='Data Value')\n",
        "skills.head()"
      ],
      "execution_count": null,
      "outputs": [
        {
          "output_type": "execute_result",
          "data": {
            "text/html": [
              "<div>\n",
              "<style scoped>\n",
              "    .dataframe tbody tr th:only-of-type {\n",
              "        vertical-align: middle;\n",
              "    }\n",
              "\n",
              "    .dataframe tbody tr th {\n",
              "        vertical-align: top;\n",
              "    }\n",
              "\n",
              "    .dataframe thead th {\n",
              "        text-align: right;\n",
              "    }\n",
              "</style>\n",
              "<table border=\"1\" class=\"dataframe\">\n",
              "  <thead>\n",
              "    <tr style=\"text-align: right;\">\n",
              "      <th>Element Name</th>\n",
              "      <th>Active Learning</th>\n",
              "      <th>Active Listening</th>\n",
              "      <th>Complex Problem Solving</th>\n",
              "      <th>Coordination</th>\n",
              "      <th>Critical Thinking</th>\n",
              "      <th>Equipment Maintenance</th>\n",
              "      <th>Equipment Selection</th>\n",
              "      <th>Installation</th>\n",
              "      <th>Instructing</th>\n",
              "      <th>Judgment and Decision Making</th>\n",
              "      <th>Learning Strategies</th>\n",
              "      <th>Management of Financial Resources</th>\n",
              "      <th>Management of Material Resources</th>\n",
              "      <th>Management of Personnel Resources</th>\n",
              "      <th>Mathematics</th>\n",
              "      <th>Monitoring</th>\n",
              "      <th>Negotiation</th>\n",
              "      <th>Operation Monitoring</th>\n",
              "      <th>Operation and Control</th>\n",
              "      <th>Operations Analysis</th>\n",
              "      <th>Persuasion</th>\n",
              "      <th>Programming</th>\n",
              "      <th>Quality Control Analysis</th>\n",
              "      <th>Reading Comprehension</th>\n",
              "      <th>Repairing</th>\n",
              "      <th>Science</th>\n",
              "      <th>Service Orientation</th>\n",
              "      <th>Social Perceptiveness</th>\n",
              "      <th>Speaking</th>\n",
              "      <th>Systems Analysis</th>\n",
              "      <th>Systems Evaluation</th>\n",
              "      <th>Technology Design</th>\n",
              "      <th>Time Management</th>\n",
              "      <th>Troubleshooting</th>\n",
              "      <th>Writing</th>\n",
              "    </tr>\n",
              "    <tr>\n",
              "      <th>O*NET-SOC Code</th>\n",
              "      <th></th>\n",
              "      <th></th>\n",
              "      <th></th>\n",
              "      <th></th>\n",
              "      <th></th>\n",
              "      <th></th>\n",
              "      <th></th>\n",
              "      <th></th>\n",
              "      <th></th>\n",
              "      <th></th>\n",
              "      <th></th>\n",
              "      <th></th>\n",
              "      <th></th>\n",
              "      <th></th>\n",
              "      <th></th>\n",
              "      <th></th>\n",
              "      <th></th>\n",
              "      <th></th>\n",
              "      <th></th>\n",
              "      <th></th>\n",
              "      <th></th>\n",
              "      <th></th>\n",
              "      <th></th>\n",
              "      <th></th>\n",
              "      <th></th>\n",
              "      <th></th>\n",
              "      <th></th>\n",
              "      <th></th>\n",
              "      <th></th>\n",
              "      <th></th>\n",
              "      <th></th>\n",
              "      <th></th>\n",
              "      <th></th>\n",
              "      <th></th>\n",
              "      <th></th>\n",
              "    </tr>\n",
              "  </thead>\n",
              "  <tbody>\n",
              "    <tr>\n",
              "      <th>11-1011.00</th>\n",
              "      <td>4.00</td>\n",
              "      <td>4.12</td>\n",
              "      <td>4.38</td>\n",
              "      <td>4.25</td>\n",
              "      <td>4.38</td>\n",
              "      <td>1.0</td>\n",
              "      <td>1.12</td>\n",
              "      <td>1.0</td>\n",
              "      <td>3.12</td>\n",
              "      <td>4.50</td>\n",
              "      <td>3.12</td>\n",
              "      <td>4.12</td>\n",
              "      <td>3.88</td>\n",
              "      <td>4.25</td>\n",
              "      <td>3.25</td>\n",
              "      <td>4.12</td>\n",
              "      <td>4.12</td>\n",
              "      <td>1.88</td>\n",
              "      <td>1.75</td>\n",
              "      <td>3.12</td>\n",
              "      <td>4.12</td>\n",
              "      <td>1.62</td>\n",
              "      <td>1.75</td>\n",
              "      <td>4.12</td>\n",
              "      <td>1.0</td>\n",
              "      <td>1.88</td>\n",
              "      <td>3.12</td>\n",
              "      <td>4.25</td>\n",
              "      <td>4.38</td>\n",
              "      <td>4.12</td>\n",
              "      <td>4.12</td>\n",
              "      <td>1.75</td>\n",
              "      <td>4.00</td>\n",
              "      <td>1.00</td>\n",
              "      <td>4.00</td>\n",
              "    </tr>\n",
              "    <tr>\n",
              "      <th>11-1011.03</th>\n",
              "      <td>3.50</td>\n",
              "      <td>3.88</td>\n",
              "      <td>4.00</td>\n",
              "      <td>3.62</td>\n",
              "      <td>4.00</td>\n",
              "      <td>1.0</td>\n",
              "      <td>1.12</td>\n",
              "      <td>1.0</td>\n",
              "      <td>3.25</td>\n",
              "      <td>3.75</td>\n",
              "      <td>3.38</td>\n",
              "      <td>2.62</td>\n",
              "      <td>2.38</td>\n",
              "      <td>3.38</td>\n",
              "      <td>2.75</td>\n",
              "      <td>3.62</td>\n",
              "      <td>2.88</td>\n",
              "      <td>2.25</td>\n",
              "      <td>1.62</td>\n",
              "      <td>2.62</td>\n",
              "      <td>3.62</td>\n",
              "      <td>1.62</td>\n",
              "      <td>2.25</td>\n",
              "      <td>4.00</td>\n",
              "      <td>1.0</td>\n",
              "      <td>1.75</td>\n",
              "      <td>3.25</td>\n",
              "      <td>3.75</td>\n",
              "      <td>4.00</td>\n",
              "      <td>3.62</td>\n",
              "      <td>3.62</td>\n",
              "      <td>1.62</td>\n",
              "      <td>3.38</td>\n",
              "      <td>1.12</td>\n",
              "      <td>3.88</td>\n",
              "    </tr>\n",
              "    <tr>\n",
              "      <th>11-1021.00</th>\n",
              "      <td>3.50</td>\n",
              "      <td>4.00</td>\n",
              "      <td>3.50</td>\n",
              "      <td>4.00</td>\n",
              "      <td>3.88</td>\n",
              "      <td>1.0</td>\n",
              "      <td>1.00</td>\n",
              "      <td>1.0</td>\n",
              "      <td>3.12</td>\n",
              "      <td>3.50</td>\n",
              "      <td>3.00</td>\n",
              "      <td>3.12</td>\n",
              "      <td>3.25</td>\n",
              "      <td>3.50</td>\n",
              "      <td>2.38</td>\n",
              "      <td>4.00</td>\n",
              "      <td>3.62</td>\n",
              "      <td>2.75</td>\n",
              "      <td>2.00</td>\n",
              "      <td>2.75</td>\n",
              "      <td>3.38</td>\n",
              "      <td>1.50</td>\n",
              "      <td>2.38</td>\n",
              "      <td>3.88</td>\n",
              "      <td>1.0</td>\n",
              "      <td>1.88</td>\n",
              "      <td>3.25</td>\n",
              "      <td>4.00</td>\n",
              "      <td>4.00</td>\n",
              "      <td>3.00</td>\n",
              "      <td>3.00</td>\n",
              "      <td>1.88</td>\n",
              "      <td>3.75</td>\n",
              "      <td>2.00</td>\n",
              "      <td>3.25</td>\n",
              "    </tr>\n",
              "    <tr>\n",
              "      <th>11-2011.00</th>\n",
              "      <td>3.25</td>\n",
              "      <td>4.12</td>\n",
              "      <td>3.50</td>\n",
              "      <td>3.50</td>\n",
              "      <td>4.00</td>\n",
              "      <td>1.0</td>\n",
              "      <td>1.12</td>\n",
              "      <td>1.0</td>\n",
              "      <td>2.88</td>\n",
              "      <td>3.75</td>\n",
              "      <td>3.00</td>\n",
              "      <td>2.75</td>\n",
              "      <td>2.62</td>\n",
              "      <td>3.12</td>\n",
              "      <td>3.00</td>\n",
              "      <td>3.25</td>\n",
              "      <td>3.12</td>\n",
              "      <td>1.62</td>\n",
              "      <td>1.00</td>\n",
              "      <td>2.75</td>\n",
              "      <td>3.38</td>\n",
              "      <td>1.75</td>\n",
              "      <td>1.62</td>\n",
              "      <td>3.75</td>\n",
              "      <td>1.0</td>\n",
              "      <td>1.62</td>\n",
              "      <td>3.12</td>\n",
              "      <td>4.00</td>\n",
              "      <td>4.00</td>\n",
              "      <td>3.12</td>\n",
              "      <td>3.12</td>\n",
              "      <td>1.75</td>\n",
              "      <td>3.50</td>\n",
              "      <td>1.00</td>\n",
              "      <td>3.75</td>\n",
              "    </tr>\n",
              "    <tr>\n",
              "      <th>11-2021.00</th>\n",
              "      <td>3.88</td>\n",
              "      <td>3.88</td>\n",
              "      <td>3.62</td>\n",
              "      <td>3.50</td>\n",
              "      <td>3.88</td>\n",
              "      <td>1.0</td>\n",
              "      <td>1.00</td>\n",
              "      <td>1.0</td>\n",
              "      <td>3.00</td>\n",
              "      <td>3.75</td>\n",
              "      <td>3.12</td>\n",
              "      <td>2.88</td>\n",
              "      <td>2.62</td>\n",
              "      <td>3.38</td>\n",
              "      <td>2.75</td>\n",
              "      <td>3.75</td>\n",
              "      <td>3.62</td>\n",
              "      <td>1.75</td>\n",
              "      <td>1.00</td>\n",
              "      <td>3.38</td>\n",
              "      <td>3.75</td>\n",
              "      <td>1.88</td>\n",
              "      <td>1.88</td>\n",
              "      <td>3.88</td>\n",
              "      <td>1.0</td>\n",
              "      <td>1.75</td>\n",
              "      <td>3.12</td>\n",
              "      <td>3.88</td>\n",
              "      <td>3.88</td>\n",
              "      <td>3.25</td>\n",
              "      <td>3.50</td>\n",
              "      <td>1.75</td>\n",
              "      <td>3.50</td>\n",
              "      <td>1.00</td>\n",
              "      <td>3.25</td>\n",
              "    </tr>\n",
              "  </tbody>\n",
              "</table>\n",
              "</div>"
            ],
            "text/plain": [
              "Element Name    Active Learning  Active Listening  ...  Troubleshooting  Writing\n",
              "O*NET-SOC Code                                     ...                          \n",
              "11-1011.00                 4.00              4.12  ...             1.00     4.00\n",
              "11-1011.03                 3.50              3.88  ...             1.12     3.88\n",
              "11-1021.00                 3.50              4.00  ...             2.00     3.25\n",
              "11-2011.00                 3.25              4.12  ...             1.00     3.75\n",
              "11-2021.00                 3.88              3.88  ...             1.00     3.25\n",
              "\n",
              "[5 rows x 35 columns]"
            ]
          },
          "metadata": {
            "tags": []
          },
          "execution_count": 159
        }
      ]
    },
    {
      "cell_type": "code",
      "metadata": {
        "id": "y5w2hWTqh0Y4",
        "colab": {
          "base_uri": "https://localhost:8080/",
          "height": 534
        },
        "outputId": "de4b0ae5-8610-41ed-a75a-331c1a2cc951"
      },
      "source": [
        "dataset = skills.merge(work_styles, on=\"O*NET-SOC Code\")\n",
        "dataset = raw_occupation_data.merge(dataset, on=\"O*NET-SOC Code\")\n",
        "dataset.head()"
      ],
      "execution_count": null,
      "outputs": [
        {
          "output_type": "execute_result",
          "data": {
            "text/html": [
              "<div>\n",
              "<style scoped>\n",
              "    .dataframe tbody tr th:only-of-type {\n",
              "        vertical-align: middle;\n",
              "    }\n",
              "\n",
              "    .dataframe tbody tr th {\n",
              "        vertical-align: top;\n",
              "    }\n",
              "\n",
              "    .dataframe thead th {\n",
              "        text-align: right;\n",
              "    }\n",
              "</style>\n",
              "<table border=\"1\" class=\"dataframe\">\n",
              "  <thead>\n",
              "    <tr style=\"text-align: right;\">\n",
              "      <th></th>\n",
              "      <th>O*NET-SOC Code</th>\n",
              "      <th>Title</th>\n",
              "      <th>Description</th>\n",
              "      <th>Active Learning</th>\n",
              "      <th>Active Listening</th>\n",
              "      <th>Complex Problem Solving</th>\n",
              "      <th>Coordination</th>\n",
              "      <th>Critical Thinking</th>\n",
              "      <th>Equipment Maintenance</th>\n",
              "      <th>Equipment Selection</th>\n",
              "      <th>Installation</th>\n",
              "      <th>Instructing</th>\n",
              "      <th>Judgment and Decision Making</th>\n",
              "      <th>Learning Strategies</th>\n",
              "      <th>Management of Financial Resources</th>\n",
              "      <th>Management of Material Resources</th>\n",
              "      <th>Management of Personnel Resources</th>\n",
              "      <th>Mathematics</th>\n",
              "      <th>Monitoring</th>\n",
              "      <th>Negotiation</th>\n",
              "      <th>Operation Monitoring</th>\n",
              "      <th>Operation and Control</th>\n",
              "      <th>Operations Analysis</th>\n",
              "      <th>Persuasion</th>\n",
              "      <th>Programming</th>\n",
              "      <th>Quality Control Analysis</th>\n",
              "      <th>Reading Comprehension</th>\n",
              "      <th>Repairing</th>\n",
              "      <th>Science</th>\n",
              "      <th>Service Orientation</th>\n",
              "      <th>Social Perceptiveness</th>\n",
              "      <th>Speaking</th>\n",
              "      <th>Systems Analysis</th>\n",
              "      <th>Systems Evaluation</th>\n",
              "      <th>Technology Design</th>\n",
              "      <th>Time Management</th>\n",
              "      <th>Troubleshooting</th>\n",
              "      <th>Writing</th>\n",
              "      <th>Achievement/Effort</th>\n",
              "      <th>Adaptability/Flexibility</th>\n",
              "      <th>Analytical Thinking</th>\n",
              "      <th>Attention to Detail</th>\n",
              "      <th>Concern for Others</th>\n",
              "      <th>Cooperation</th>\n",
              "      <th>Dependability</th>\n",
              "      <th>Independence</th>\n",
              "      <th>Initiative</th>\n",
              "      <th>Innovation</th>\n",
              "      <th>Integrity</th>\n",
              "      <th>Leadership</th>\n",
              "      <th>Persistence</th>\n",
              "      <th>Self Control</th>\n",
              "      <th>Social Orientation</th>\n",
              "      <th>Stress Tolerance</th>\n",
              "    </tr>\n",
              "  </thead>\n",
              "  <tbody>\n",
              "    <tr>\n",
              "      <th>0</th>\n",
              "      <td>11-1011.00</td>\n",
              "      <td>Chief Executives</td>\n",
              "      <td>Determine and formulate policies and provide o...</td>\n",
              "      <td>4.00</td>\n",
              "      <td>4.12</td>\n",
              "      <td>4.38</td>\n",
              "      <td>4.25</td>\n",
              "      <td>4.38</td>\n",
              "      <td>1.0</td>\n",
              "      <td>1.12</td>\n",
              "      <td>1.0</td>\n",
              "      <td>3.12</td>\n",
              "      <td>4.50</td>\n",
              "      <td>3.12</td>\n",
              "      <td>4.12</td>\n",
              "      <td>3.88</td>\n",
              "      <td>4.25</td>\n",
              "      <td>3.25</td>\n",
              "      <td>4.12</td>\n",
              "      <td>4.12</td>\n",
              "      <td>1.88</td>\n",
              "      <td>1.75</td>\n",
              "      <td>3.12</td>\n",
              "      <td>4.12</td>\n",
              "      <td>1.62</td>\n",
              "      <td>1.75</td>\n",
              "      <td>4.12</td>\n",
              "      <td>1.0</td>\n",
              "      <td>1.88</td>\n",
              "      <td>3.12</td>\n",
              "      <td>4.25</td>\n",
              "      <td>4.38</td>\n",
              "      <td>4.12</td>\n",
              "      <td>4.12</td>\n",
              "      <td>1.75</td>\n",
              "      <td>4.00</td>\n",
              "      <td>1.00</td>\n",
              "      <td>4.00</td>\n",
              "      <td>4.55</td>\n",
              "      <td>4.20</td>\n",
              "      <td>4.45</td>\n",
              "      <td>4.49</td>\n",
              "      <td>4.22</td>\n",
              "      <td>4.44</td>\n",
              "      <td>4.65</td>\n",
              "      <td>4.54</td>\n",
              "      <td>4.75</td>\n",
              "      <td>4.27</td>\n",
              "      <td>4.80</td>\n",
              "      <td>4.97</td>\n",
              "      <td>4.43</td>\n",
              "      <td>4.52</td>\n",
              "      <td>3.67</td>\n",
              "      <td>4.75</td>\n",
              "    </tr>\n",
              "    <tr>\n",
              "      <th>1</th>\n",
              "      <td>11-1011.03</td>\n",
              "      <td>Chief Sustainability Officers</td>\n",
              "      <td>Communicate and coordinate with management, sh...</td>\n",
              "      <td>3.50</td>\n",
              "      <td>3.88</td>\n",
              "      <td>4.00</td>\n",
              "      <td>3.62</td>\n",
              "      <td>4.00</td>\n",
              "      <td>1.0</td>\n",
              "      <td>1.12</td>\n",
              "      <td>1.0</td>\n",
              "      <td>3.25</td>\n",
              "      <td>3.75</td>\n",
              "      <td>3.38</td>\n",
              "      <td>2.62</td>\n",
              "      <td>2.38</td>\n",
              "      <td>3.38</td>\n",
              "      <td>2.75</td>\n",
              "      <td>3.62</td>\n",
              "      <td>2.88</td>\n",
              "      <td>2.25</td>\n",
              "      <td>1.62</td>\n",
              "      <td>2.62</td>\n",
              "      <td>3.62</td>\n",
              "      <td>1.62</td>\n",
              "      <td>2.25</td>\n",
              "      <td>4.00</td>\n",
              "      <td>1.0</td>\n",
              "      <td>1.75</td>\n",
              "      <td>3.25</td>\n",
              "      <td>3.75</td>\n",
              "      <td>4.00</td>\n",
              "      <td>3.62</td>\n",
              "      <td>3.62</td>\n",
              "      <td>1.62</td>\n",
              "      <td>3.38</td>\n",
              "      <td>1.12</td>\n",
              "      <td>3.88</td>\n",
              "      <td>4.19</td>\n",
              "      <td>4.23</td>\n",
              "      <td>4.31</td>\n",
              "      <td>4.12</td>\n",
              "      <td>3.48</td>\n",
              "      <td>4.32</td>\n",
              "      <td>4.23</td>\n",
              "      <td>4.27</td>\n",
              "      <td>4.60</td>\n",
              "      <td>4.38</td>\n",
              "      <td>4.58</td>\n",
              "      <td>4.64</td>\n",
              "      <td>4.31</td>\n",
              "      <td>4.00</td>\n",
              "      <td>3.35</td>\n",
              "      <td>4.08</td>\n",
              "    </tr>\n",
              "    <tr>\n",
              "      <th>2</th>\n",
              "      <td>11-1021.00</td>\n",
              "      <td>General and Operations Managers</td>\n",
              "      <td>Plan, direct, or coordinate the operations of ...</td>\n",
              "      <td>3.50</td>\n",
              "      <td>4.00</td>\n",
              "      <td>3.50</td>\n",
              "      <td>4.00</td>\n",
              "      <td>3.88</td>\n",
              "      <td>1.0</td>\n",
              "      <td>1.00</td>\n",
              "      <td>1.0</td>\n",
              "      <td>3.12</td>\n",
              "      <td>3.50</td>\n",
              "      <td>3.00</td>\n",
              "      <td>3.12</td>\n",
              "      <td>3.25</td>\n",
              "      <td>3.50</td>\n",
              "      <td>2.38</td>\n",
              "      <td>4.00</td>\n",
              "      <td>3.62</td>\n",
              "      <td>2.75</td>\n",
              "      <td>2.00</td>\n",
              "      <td>2.75</td>\n",
              "      <td>3.38</td>\n",
              "      <td>1.50</td>\n",
              "      <td>2.38</td>\n",
              "      <td>3.88</td>\n",
              "      <td>1.0</td>\n",
              "      <td>1.88</td>\n",
              "      <td>3.25</td>\n",
              "      <td>4.00</td>\n",
              "      <td>4.00</td>\n",
              "      <td>3.00</td>\n",
              "      <td>3.00</td>\n",
              "      <td>1.88</td>\n",
              "      <td>3.75</td>\n",
              "      <td>2.00</td>\n",
              "      <td>3.25</td>\n",
              "      <td>4.18</td>\n",
              "      <td>4.09</td>\n",
              "      <td>4.03</td>\n",
              "      <td>4.25</td>\n",
              "      <td>4.06</td>\n",
              "      <td>4.16</td>\n",
              "      <td>4.54</td>\n",
              "      <td>3.99</td>\n",
              "      <td>4.35</td>\n",
              "      <td>3.65</td>\n",
              "      <td>4.30</td>\n",
              "      <td>4.59</td>\n",
              "      <td>4.04</td>\n",
              "      <td>4.31</td>\n",
              "      <td>3.57</td>\n",
              "      <td>4.33</td>\n",
              "    </tr>\n",
              "    <tr>\n",
              "      <th>3</th>\n",
              "      <td>11-2011.00</td>\n",
              "      <td>Advertising and Promotions Managers</td>\n",
              "      <td>Plan, direct, or coordinate advertising polici...</td>\n",
              "      <td>3.25</td>\n",
              "      <td>4.12</td>\n",
              "      <td>3.50</td>\n",
              "      <td>3.50</td>\n",
              "      <td>4.00</td>\n",
              "      <td>1.0</td>\n",
              "      <td>1.12</td>\n",
              "      <td>1.0</td>\n",
              "      <td>2.88</td>\n",
              "      <td>3.75</td>\n",
              "      <td>3.00</td>\n",
              "      <td>2.75</td>\n",
              "      <td>2.62</td>\n",
              "      <td>3.12</td>\n",
              "      <td>3.00</td>\n",
              "      <td>3.25</td>\n",
              "      <td>3.12</td>\n",
              "      <td>1.62</td>\n",
              "      <td>1.00</td>\n",
              "      <td>2.75</td>\n",
              "      <td>3.38</td>\n",
              "      <td>1.75</td>\n",
              "      <td>1.62</td>\n",
              "      <td>3.75</td>\n",
              "      <td>1.0</td>\n",
              "      <td>1.62</td>\n",
              "      <td>3.12</td>\n",
              "      <td>4.00</td>\n",
              "      <td>4.00</td>\n",
              "      <td>3.12</td>\n",
              "      <td>3.12</td>\n",
              "      <td>1.75</td>\n",
              "      <td>3.50</td>\n",
              "      <td>1.00</td>\n",
              "      <td>3.75</td>\n",
              "      <td>4.10</td>\n",
              "      <td>4.42</td>\n",
              "      <td>3.88</td>\n",
              "      <td>4.48</td>\n",
              "      <td>3.81</td>\n",
              "      <td>4.51</td>\n",
              "      <td>4.51</td>\n",
              "      <td>4.04</td>\n",
              "      <td>4.56</td>\n",
              "      <td>3.99</td>\n",
              "      <td>4.17</td>\n",
              "      <td>4.03</td>\n",
              "      <td>4.32</td>\n",
              "      <td>4.18</td>\n",
              "      <td>3.70</td>\n",
              "      <td>4.35</td>\n",
              "    </tr>\n",
              "    <tr>\n",
              "      <th>4</th>\n",
              "      <td>11-2021.00</td>\n",
              "      <td>Marketing Managers</td>\n",
              "      <td>Plan, direct, or coordinate marketing policies...</td>\n",
              "      <td>3.88</td>\n",
              "      <td>3.88</td>\n",
              "      <td>3.62</td>\n",
              "      <td>3.50</td>\n",
              "      <td>3.88</td>\n",
              "      <td>1.0</td>\n",
              "      <td>1.00</td>\n",
              "      <td>1.0</td>\n",
              "      <td>3.00</td>\n",
              "      <td>3.75</td>\n",
              "      <td>3.12</td>\n",
              "      <td>2.88</td>\n",
              "      <td>2.62</td>\n",
              "      <td>3.38</td>\n",
              "      <td>2.75</td>\n",
              "      <td>3.75</td>\n",
              "      <td>3.62</td>\n",
              "      <td>1.75</td>\n",
              "      <td>1.00</td>\n",
              "      <td>3.38</td>\n",
              "      <td>3.75</td>\n",
              "      <td>1.88</td>\n",
              "      <td>1.88</td>\n",
              "      <td>3.88</td>\n",
              "      <td>1.0</td>\n",
              "      <td>1.75</td>\n",
              "      <td>3.12</td>\n",
              "      <td>3.88</td>\n",
              "      <td>3.88</td>\n",
              "      <td>3.25</td>\n",
              "      <td>3.50</td>\n",
              "      <td>1.75</td>\n",
              "      <td>3.50</td>\n",
              "      <td>1.00</td>\n",
              "      <td>3.25</td>\n",
              "      <td>4.32</td>\n",
              "      <td>4.31</td>\n",
              "      <td>4.00</td>\n",
              "      <td>4.32</td>\n",
              "      <td>3.37</td>\n",
              "      <td>4.08</td>\n",
              "      <td>4.35</td>\n",
              "      <td>3.88</td>\n",
              "      <td>4.53</td>\n",
              "      <td>4.15</td>\n",
              "      <td>4.17</td>\n",
              "      <td>4.37</td>\n",
              "      <td>4.23</td>\n",
              "      <td>3.87</td>\n",
              "      <td>3.80</td>\n",
              "      <td>4.01</td>\n",
              "    </tr>\n",
              "  </tbody>\n",
              "</table>\n",
              "</div>"
            ],
            "text/plain": [
              "  O*NET-SOC Code  ... Stress Tolerance\n",
              "0     11-1011.00  ...             4.75\n",
              "1     11-1011.03  ...             4.08\n",
              "2     11-1021.00  ...             4.33\n",
              "3     11-2011.00  ...             4.35\n",
              "4     11-2021.00  ...             4.01\n",
              "\n",
              "[5 rows x 54 columns]"
            ]
          },
          "metadata": {
            "tags": []
          },
          "execution_count": 160
        }
      ]
    },
    {
      "cell_type": "markdown",
      "metadata": {
        "id": "zyaSmCZqh7Um"
      },
      "source": [
        "<h1>Data Visualizations</h1>\n",
        "Plotting the importance of the features for the Cheif Excutive Title "
      ]
    },
    {
      "cell_type": "code",
      "metadata": {
        "id": "dnSD2bafh25_",
        "colab": {
          "base_uri": "https://localhost:8080/",
          "height": 624
        },
        "outputId": "a3e6a5ed-f431-4b2f-a615-efb53cbb2c4f"
      },
      "source": [
        "features = list(dataset.loc[:, \"Active Learning\":\"Stress Tolerance\"].columns)\n",
        "plt.figure(figsize=(5, 10))\n",
        "plt.title(\"Cheif Executives\")\n",
        "sns.barplot(y=features, x=dataset.loc[0, \"Active Learning\":\"Stress Tolerance\"].values)"
      ],
      "execution_count": null,
      "outputs": [
        {
          "output_type": "execute_result",
          "data": {
            "text/plain": [
              "<matplotlib.axes._subplots.AxesSubplot at 0x7f6d2bc395c0>"
            ]
          },
          "metadata": {
            "tags": []
          },
          "execution_count": 161
        },
        {
          "output_type": "display_data",
          "data": {
            "image/png": "[encoded data removed]",
            "text/plain": [
              "<Figure size 360x720 with 1 Axes>"
            ]
          },
          "metadata": {
            "tags": [],
            "needs_background": "light"
          }
        }
      ]
    },
    {
      "cell_type": "markdown",
      "metadata": {
        "id": "VkugsGHBiJkC"
      },
      "source": [
        "<h1>PREPROCESSING</h1>\n",
        "The text has to be vectorized so that we can feed it into our model. Keras comes with several text preprocessing classes that we can use for that.\n",
        "\n",
        "The labels need encoded as well, so that the 51 labels will be represented as 51 binary values in an array. This can be done with the MultiLabelBinarizer from the sklearn library."
      ]
    },
    {
      "cell_type": "code",
      "metadata": {
        "id": "V__GJO4QiHS2"
      },
      "source": [
        "from keras.preprocessing.text import Tokenizer\n",
        "from keras.preprocessing.sequence import pad_sequences\n",
        "from sklearn.preprocessing import MultiLabelBinarizer\n",
        "\n",
        "vocab_size = 20000\n",
        "sequence_length = 100\n",
        "tokenizer = Tokenizer(num_words=max_words, lower=True)\n",
        "tokenizer.fit_on_texts(dataset[\"Description\"])\n",
        "sequences = tokenizer.texts_to_sequences(dataset[\"Description\"])\n",
        "X = pad_sequences(sequences, maxlen=sequence_length)"
      ],
      "execution_count": null,
      "outputs": []
    },
    {
      "cell_type": "markdown",
      "metadata": {
        "id": "uZ2Jj6ediXfp"
      },
      "source": [
        "Here we are selecting the top 25 labels features having the largest values in each rows and adding them to the to the new columns Tag"
      ]
    },
    {
      "cell_type": "code",
      "metadata": {
        "id": "2pV2lndCiOgN"
      },
      "source": [
        "y = dataset.loc[:, \"Active Learning\":\"Stress Tolerance\"]"
      ],
      "execution_count": null,
      "outputs": []
    },
    {
      "cell_type": "code",
      "metadata": {
        "id": "ZXzzMUO8iwZv"
      },
      "source": [
        "mlb = MultiLabelBinarizer()\n",
        "mlb.fit([list(y.columns)])\n",
        "total_labels = len(mlb.classes_)\n",
        "def get_label(data):\n",
        "    data = data.sort_values(ascending=False)\n",
        "    return np.array(data[1:25].index)\n",
        "y[\"Tags\"] = y.apply(lambda row : get_label(row), axis=1)\n",
        "y_labels = mlb.transform(y[\"Tags\"])"
      ],
      "execution_count": null,
      "outputs": []
    },
    {
      "cell_type": "code",
      "metadata": {
        "id": "5RdxGx0xxXuj"
      },
      "source": [
        "output = dataset.loc[:, \"O*NET-SOC Code\": \"Description\"]\n",
        "output[\"tags\"] = y[\"Tags\"]\n",
        "output.to_csv(\"sample_submission.csv\")"
      ],
      "execution_count": null,
      "outputs": []
    },
    {
      "cell_type": "markdown",
      "metadata": {
        "id": "ILcmml0zicNE"
      },
      "source": [
        "<h2>Imbalance Classes</h2>\n",
        "Some tags occur more often than others, thus the classes are not well balanced. The imbalanced class problem can be addressed by applying class weights, thus weighting less frequent tags higher than very frequent tags."
      ]
    },
    {
      "cell_type": "code",
      "metadata": {
        "id": "M3vZgAiniUSr",
        "colab": {
          "base_uri": "https://localhost:8080/",
          "height": 195
        },
        "outputId": "ff888b5c-843d-4b29-affc-2343eca5f174"
      },
      "source": [
        "tags_weight = pd.DataFrame(y_labels).apply(lambda x:sum(x))\n",
        "most_tags = pd.DataFrame(tags_weight.values, index=[features], columns=[\"Count\"])\n",
        "most_tags[\"weight\"] = len(y)/most_tags[\"Count\"]\n",
        "most_tags.head()"
      ],
      "execution_count": null,
      "outputs": [
        {
          "output_type": "execute_result",
          "data": {
            "text/html": [
              "<div>\n",
              "<style scoped>\n",
              "    .dataframe tbody tr th:only-of-type {\n",
              "        vertical-align: middle;\n",
              "    }\n",
              "\n",
              "    .dataframe tbody tr th {\n",
              "        vertical-align: top;\n",
              "    }\n",
              "\n",
              "    .dataframe thead th {\n",
              "        text-align: right;\n",
              "    }\n",
              "</style>\n",
              "<table border=\"1\" class=\"dataframe\">\n",
              "  <thead>\n",
              "    <tr style=\"text-align: right;\">\n",
              "      <th></th>\n",
              "      <th>Count</th>\n",
              "      <th>weight</th>\n",
              "    </tr>\n",
              "  </thead>\n",
              "  <tbody>\n",
              "    <tr>\n",
              "      <th>Active Learning</th>\n",
              "      <td>955</td>\n",
              "      <td>1.012565</td>\n",
              "    </tr>\n",
              "    <tr>\n",
              "      <th>Active Listening</th>\n",
              "      <td>341</td>\n",
              "      <td>2.835777</td>\n",
              "    </tr>\n",
              "    <tr>\n",
              "      <th>Complex Problem Solving</th>\n",
              "      <td>923</td>\n",
              "      <td>1.047671</td>\n",
              "    </tr>\n",
              "    <tr>\n",
              "      <th>Coordination</th>\n",
              "      <td>956</td>\n",
              "      <td>1.011506</td>\n",
              "    </tr>\n",
              "    <tr>\n",
              "      <th>Critical Thinking</th>\n",
              "      <td>860</td>\n",
              "      <td>1.124419</td>\n",
              "    </tr>\n",
              "  </tbody>\n",
              "</table>\n",
              "</div>"
            ],
            "text/plain": [
              "                         Count    weight\n",
              "Active Learning            955  1.012565\n",
              "Active Listening           341  2.835777\n",
              "Complex Problem Solving    923  1.047671\n",
              "Coordination               956  1.011506\n",
              "Critical Thinking          860  1.124419"
            ]
          },
          "metadata": {
            "tags": []
          },
          "execution_count": 165
        }
      ]
    },
    {
      "cell_type": "code",
      "metadata": {
        "id": "6mn03kluimNP"
      },
      "source": [
        "#splitting data into train and test\n",
        "from sklearn.model_selection import train_test_split\n",
        "X_train, X_test, y_train, y_test = train_test_split(X, y_labels, test_size=0.20, random_state=42)"
      ],
      "execution_count": null,
      "outputs": []
    },
    {
      "cell_type": "markdown",
      "metadata": {
        "id": "1RmlRMekjQsR"
      },
      "source": [
        "<h1>Model</h1>"
      ]
    },
    {
      "cell_type": "code",
      "metadata": {
        "id": "G5KfbQYTjU1W"
      },
      "source": [
        "#imports\n",
        "from keras.models import Sequential\n",
        "from keras.layers import Dense, Activation, Embedding, Flatten, GlobalMaxPool1D, Dropout, Conv1D, LSTM, SpatialDropout1D, Bidirectional, GRU, GlobalAveragePooling1D\n",
        "from keras.callbacks import ReduceLROnPlateau, EarlyStopping, ModelCheckpoint\n",
        "from keras.optimizers import Adam, SGD"
      ],
      "execution_count": null,
      "outputs": []
    },
    {
      "cell_type": "markdown",
      "metadata": {
        "id": "ECAbiPMVjd81"
      },
      "source": [
        "**Building a 1D Convolutional Neural Network**"
      ]
    },
    {
      "cell_type": "code",
      "metadata": {
        "id": "iHio2ZE8jdTM",
        "colab": {
          "base_uri": "https://localhost:8080/"
        },
        "outputId": "56d30521-6ff7-4e79-d8d7-3749709c3abd"
      },
      "source": [
        "callbacks_1 = [\n",
        "    ReduceLROnPlateau(), \n",
        "    EarlyStopping(monitor='val_loss', mode='min', verbose=1, patience=100)\n",
        "]\n",
        "filter_length = 300\n",
        "model = Sequential()\n",
        "model.add(Embedding(vocab_size, 20 , input_length=sequence_length))\n",
        "model.add(Dropout(0.1))\n",
        "model.add(Conv1D(filter_length, 3, padding='valid', activation='relu', strides=1))\n",
        "model.add(GlobalMaxPool1D())\n",
        "model.add(Dense(51))\n",
        "model.add(Activation('sigmoid'))\n",
        "model.compile(optimizer = 'adam', loss='binary_crossentropy', metrics=['categorical_accuracy'])\n",
        "model.summary()"
      ],
      "execution_count": null,
      "outputs": [
        {
          "output_type": "stream",
          "text": [
            "Model: \"sequential_39\"\n",
            "_________________________________________________________________\n",
            "Layer (type)                 Output Shape              Param #   \n",
            "=================================================================\n",
            "embedding_39 (Embedding)     (None, 100, 20)           400000    \n",
            "_________________________________________________________________\n",
            "dropout_37 (Dropout)         (None, 100, 20)           0         \n",
            "_________________________________________________________________\n",
            "conv1d_36 (Conv1D)           (None, 98, 300)           18300     \n",
            "_________________________________________________________________\n",
            "global_max_pooling1d_25 (Glo (None, 300)               0         \n",
            "_________________________________________________________________\n",
            "dense_37 (Dense)             (None, 51)                15351     \n",
            "_________________________________________________________________\n",
            "activation_24 (Activation)   (None, 51)                0         \n",
            "=================================================================\n",
            "Total params: 433,651\n",
            "Trainable params: 433,651\n",
            "Non-trainable params: 0\n",
            "_________________________________________________________________\n"
          ],
          "name": "stdout"
        }
      ]
    },
    {
      "cell_type": "markdown",
      "metadata": {
        "id": "p4_BBi41DaBp"
      },
      "source": [
        "**Why Sigmoid and not Softmax in the final dense layer?**<br>\n",
        "In the final layer of the above architecture, sigmoid function as been used instead of softmax. The advantage of using sigmoid over Softmax lies in the fact that one synopsis may have many possible labels. Using the Softmax function would imply that the probability of occurrence of one label depends on the occurrence of other label. But for this application, we need a function that would give scores for the occurrence of label, which would be independent of occurrences of any other labels."
      ]
    },
    {
      "cell_type": "code",
      "metadata": {
        "id": "Gn1SMzsbsNri",
        "colab": {
          "base_uri": "https://localhost:8080/",
          "height": 661
        },
        "outputId": "f6b5126b-6578-4577-b532-95fe72fc82c4"
      },
      "source": [
        "from keras.utils import plot_model\n",
        "plot_model(model, to_file='conv_model.png')"
      ],
      "execution_count": null,
      "outputs": [
        {
          "output_type": "execute_result",
          "data": {
            "image/png": "[encoded data removed]",
            "text/plain": [
              "<IPython.core.display.Image object>"
            ]
          },
          "metadata": {
            "tags": []
          },
          "execution_count": 222
        }
      ]
    },
    {
      "cell_type": "code",
      "metadata": {
        "id": "EgZdy4NHja79",
        "colab": {
          "base_uri": "https://localhost:8080/"
        },
        "outputId": "7df96e3e-0a85-4e2f-88b4-103e2431fb26"
      },
      "source": [
        "history = model.fit(X_train, y_train, epochs = 8,  batch_size= 32, validation_data = (X_test, y_test))"
      ],
      "execution_count": null,
      "outputs": [
        {
          "output_type": "stream",
          "text": [
            "Epoch 1/8\n",
            "25/25 [==============================] - 1s 31ms/step - loss: 0.6274 - categorical_accuracy: 0.0000e+00 - val_loss: 0.5253 - val_categorical_accuracy: 0.0000e+00\n",
            "Epoch 2/8\n",
            "25/25 [==============================] - 1s 25ms/step - loss: 0.4127 - categorical_accuracy: 0.0000e+00 - val_loss: 0.3604 - val_categorical_accuracy: 0.0000e+00\n",
            "Epoch 3/8\n",
            "25/25 [==============================] - 1s 26ms/step - loss: 0.3528 - categorical_accuracy: 0.1125 - val_loss: 0.3507 - val_categorical_accuracy: 0.6134\n",
            "Epoch 4/8\n",
            "25/25 [==============================] - 1s 26ms/step - loss: 0.3465 - categorical_accuracy: 0.7490 - val_loss: 0.3488 - val_categorical_accuracy: 0.9227\n",
            "Epoch 5/8\n",
            "25/25 [==============================] - 1s 27ms/step - loss: 0.3447 - categorical_accuracy: 0.9599 - val_loss: 0.3471 - val_categorical_accuracy: 0.8711\n",
            "Epoch 6/8\n",
            "25/25 [==============================] - 1s 27ms/step - loss: 0.3426 - categorical_accuracy: 0.9082 - val_loss: 0.3453 - val_categorical_accuracy: 0.6649\n",
            "Epoch 7/8\n",
            "25/25 [==============================] - 1s 26ms/step - loss: 0.3391 - categorical_accuracy: 0.6546 - val_loss: 0.3417 - val_categorical_accuracy: 0.3711\n",
            "Epoch 8/8\n",
            "25/25 [==============================] - 1s 27ms/step - loss: 0.3334 - categorical_accuracy: 0.2277 - val_loss: 0.3334 - val_categorical_accuracy: 0.2938\n"
          ],
          "name": "stdout"
        }
      ]
    },
    {
      "cell_type": "markdown",
      "metadata": {
        "id": "ilVcKFkDgRRo"
      },
      "source": [
        "**<h3>Training and Validation loss<h3>**"
      ]
    },
    {
      "cell_type": "code",
      "metadata": {
        "id": "NTIgC_m3mYpI",
        "colab": {
          "base_uri": "https://localhost:8080/",
          "height": 295
        },
        "outputId": "e3c945ca-cee9-4ece-86b0-0ba074a7bedc"
      },
      "source": [
        "loss_train = history.history['loss']\n",
        "loss_val = history.history['val_loss']\n",
        "epochs = range(1,len(loss_train)+1)\n",
        "plt.figure()\n",
        "plt.plot(epochs, loss_train, 'g', label='Training loss')\n",
        "plt.plot(epochs, loss_val, 'b', label='validation loss')\n",
        "plt.title('Training and Validation loss')\n",
        "plt.xlabel('Epochs')\n",
        "plt.ylabel('Loss')\n",
        "plt.legend()\n",
        "plt.show()"
      ],
      "execution_count": null,
      "outputs": [
        {
          "output_type": "display_data",
          "data": {
            "image/png": "[encoded data removed]",
            "text/plain": [
              "<Figure size 432x288 with 1 Axes>"
            ]
          },
          "metadata": {
            "tags": [],
            "needs_background": "light"
          }
        }
      ]
    },
    {
      "cell_type": "markdown",
      "metadata": {
        "id": "GtTwIywVf_dG"
      },
      "source": [
        "**<h3>Training and Validation Accuracy for ConvNet model</h3>**"
      ]
    },
    {
      "cell_type": "code",
      "metadata": {
        "id": "0ulhNj7GSFH4",
        "colab": {
          "base_uri": "https://localhost:8080/",
          "height": 295
        },
        "outputId": "11165271-9dcd-4e81-b3d2-765296df6fc9"
      },
      "source": [
        "train_acc = history.history['categorical_accuracy']\n",
        "val_acc = history.history['val_categorical_accuracy']\n",
        "plt.figure()\n",
        "epochs = range(1,len(train_acc)+1)\n",
        "plt.plot(epochs, train_acc, 'g', label='Training Accuracy')\n",
        "plt.plot(epochs, val_acc, 'b', label='validation Accuracy')\n",
        "plt.title('Training and Validation Accuracy')\n",
        "plt.xlabel('Epochs')\n",
        "plt.ylabel('Accuracy')\n",
        "plt.legend()\n",
        "plt.show()"
      ],
      "execution_count": null,
      "outputs": [
        {
          "output_type": "display_data",
          "data": {
            "image/png": "[encoded data removed]",
            "text/plain": [
              "<Figure size 432x288 with 1 Axes>"
            ]
          },
          "metadata": {
            "tags": [],
            "needs_background": "light"
          }
        }
      ]
    },
    {
      "cell_type": "markdown",
      "metadata": {
        "id": "PQwYNi34TS59"
      },
      "source": [
        "Epoch 6<br>\n",
        "loss: 0.3434 - categorical_accuracy: 0.6611 - val_loss: 0.3467 - val_categorical_accuracy: 0.8660<br>\n",
        "Epoch 7<br>\n",
        "loss: 0.3405 - categorical_accuracy: 0.8771 - val_loss: 0.3421 - val_categorical_accuracy: 0.8608<br>\n",
        "At the epoch 7 we have good enough validation and categorical accuracy with low loss"
      ]
    },
    {
      "cell_type": "code",
      "metadata": {
        "id": "jcLKCo68jk3K"
      },
      "source": [
        "pred = model.predict(X_test)"
      ],
      "execution_count": null,
      "outputs": []
    },
    {
      "cell_type": "code",
      "metadata": {
        "id": "GFjIXrzPmbML",
        "colab": {
          "base_uri": "https://localhost:8080/"
        },
        "outputId": "f3a50aec-4f22-44b8-a164-ea74e7cec7f1"
      },
      "source": [
        "X_test.shape"
      ],
      "execution_count": null,
      "outputs": [
        {
          "output_type": "execute_result",
          "data": {
            "text/plain": [
              "(194, 100)"
            ]
          },
          "metadata": {
            "tags": []
          },
          "execution_count": 215
        }
      ]
    },
    {
      "cell_type": "code",
      "metadata": {
        "id": "x0VIcNdnmiN7",
        "colab": {
          "base_uri": "https://localhost:8080/"
        },
        "outputId": "6b7a6132-e422-4c67-fad5-3bfad6f4aeca"
      },
      "source": [
        "y_test.shape"
      ],
      "execution_count": null,
      "outputs": [
        {
          "output_type": "execute_result",
          "data": {
            "text/plain": [
              "(194, 51)"
            ]
          },
          "metadata": {
            "tags": []
          },
          "execution_count": 216
        }
      ]
    },
    {
      "cell_type": "code",
      "metadata": {
        "id": "8QzJduP4pvyN",
        "colab": {
          "base_uri": "https://localhost:8080/"
        },
        "outputId": "4e7bc3ee-ff50-41e5-83b2-ee0f54f440ee"
      },
      "source": [
        "from sklearn.metrics import confusion_matrix\n",
        "confusion_matrix(y_test[0], pred[0]>0.5)"
      ],
      "execution_count": null,
      "outputs": [
        {
          "output_type": "execute_result",
          "data": {
            "text/plain": [
              "array([[23,  4],\n",
              "       [ 5, 19]])"
            ]
          },
          "metadata": {
            "tags": []
          },
          "execution_count": 172
        }
      ]
    },
    {
      "cell_type": "markdown",
      "metadata": {
        "id": "3GfvAlUbj-Rw"
      },
      "source": [
        "<h2>model-2 : LSTM<h2>"
      ]
    },
    {
      "cell_type": "code",
      "metadata": {
        "id": "r2whWWWkj0dM",
        "colab": {
          "base_uri": "https://localhost:8080/"
        },
        "outputId": "81918acc-cc4e-4dfd-e0bf-e473fe9e803d"
      },
      "source": [
        "model = Sequential()\n",
        "# Configuring the parameters\n",
        "model.add(Embedding(max_words, output_dim=50, input_length=sequence_length))\n",
        "model.add(LSTM(128, return_sequences=True))  \n",
        "# Adding a dropout layer\n",
        "model.add(Dropout(0.5))\n",
        "model.add(LSTM(64))\n",
        "model.add(Dropout(0.5))\n",
        "# Adding a dense output layer with sigmoid activation\n",
        "model.add(Dense(51, activation='sigmoid'))\n",
        "model.compile(loss='binary_crossentropy',\n",
        "            optimizer=Adam(lr=0.01),\n",
        "            metrics=['categorical_accuracy']\n",
        ")\n",
        "model.summary()"
      ],
      "execution_count": null,
      "outputs": [
        {
          "output_type": "stream",
          "text": [
            "Model: \"sequential_40\"\n",
            "_________________________________________________________________\n",
            "Layer (type)                 Output Shape              Param #   \n",
            "=================================================================\n",
            "embedding_40 (Embedding)     (None, 100, 50)           1000000   \n",
            "_________________________________________________________________\n",
            "lstm_12 (LSTM)               (None, 100, 128)          91648     \n",
            "_________________________________________________________________\n",
            "dropout_38 (Dropout)         (None, 100, 128)          0         \n",
            "_________________________________________________________________\n",
            "lstm_13 (LSTM)               (None, 64)                49408     \n",
            "_________________________________________________________________\n",
            "dropout_39 (Dropout)         (None, 64)                0         \n",
            "_________________________________________________________________\n",
            "dense_38 (Dense)             (None, 51)                3315      \n",
            "=================================================================\n",
            "Total params: 1,144,371\n",
            "Trainable params: 1,144,371\n",
            "Non-trainable params: 0\n",
            "_________________________________________________________________\n"
          ],
          "name": "stdout"
        }
      ]
    },
    {
      "cell_type": "code",
      "metadata": {
        "id": "jLkj0qi2kKiu",
        "colab": {
          "base_uri": "https://localhost:8080/"
        },
        "outputId": "957a80cb-f1f2-4ab4-c3ed-062aa092979b"
      },
      "source": [
        "callbacks_1 = [\n",
        "    ReduceLROnPlateau(), \n",
        "    EarlyStopping(monitor='val_loss', mode='min', verbose=1, patience=4)\n",
        "]\n",
        "history =  model.fit(X_train, y_train,epochs = 100, \n",
        "              batch_size= 32,validation_data = (X_test, y_test)\n",
        "    )"
      ],
      "execution_count": null,
      "outputs": [
        {
          "output_type": "stream",
          "text": [
            "Epoch 1/100\n",
            "25/25 [==============================] - 5s 208ms/step - loss: 0.2337 - categorical_accuracy: 0.0957 - val_loss: 0.3731 - val_categorical_accuracy: 0.0412\n",
            "Epoch 2/100\n",
            "25/25 [==============================] - 5s 207ms/step - loss: 0.2339 - categorical_accuracy: 0.0517 - val_loss: 0.3815 - val_categorical_accuracy: 0.0052\n",
            "Epoch 3/100\n",
            "25/25 [==============================] - 5s 204ms/step - loss: 0.2312 - categorical_accuracy: 0.0285 - val_loss: 0.3819 - val_categorical_accuracy: 0.0412\n",
            "Epoch 4/100\n",
            "25/25 [==============================] - 5s 204ms/step - loss: 0.2326 - categorical_accuracy: 0.0815 - val_loss: 0.3728 - val_categorical_accuracy: 0.0722\n",
            "Epoch 5/100\n",
            "25/25 [==============================] - 5s 210ms/step - loss: 0.2320 - categorical_accuracy: 0.0893 - val_loss: 0.3817 - val_categorical_accuracy: 0.0567\n",
            "Epoch 6/100\n",
            "25/25 [==============================] - 5s 209ms/step - loss: 0.2293 - categorical_accuracy: 0.0621 - val_loss: 0.3857 - val_categorical_accuracy: 0.0567\n",
            "Epoch 7/100\n",
            "25/25 [==============================] - 5s 206ms/step - loss: 0.2266 - categorical_accuracy: 0.1074 - val_loss: 0.3873 - val_categorical_accuracy: 0.0722\n",
            "Epoch 8/100\n",
            "25/25 [==============================] - 5s 208ms/step - loss: 0.2274 - categorical_accuracy: 0.0776 - val_loss: 0.3939 - val_categorical_accuracy: 0.0979\n",
            "Epoch 9/100\n",
            "25/25 [==============================] - 5s 207ms/step - loss: 0.2252 - categorical_accuracy: 0.1087 - val_loss: 0.3851 - val_categorical_accuracy: 0.0876\n",
            "Epoch 10/100\n",
            "25/25 [==============================] - 5s 204ms/step - loss: 0.2241 - categorical_accuracy: 0.0944 - val_loss: 0.3958 - val_categorical_accuracy: 0.0825\n",
            "Epoch 11/100\n",
            "25/25 [==============================] - 5s 204ms/step - loss: 0.2236 - categorical_accuracy: 0.1087 - val_loss: 0.3916 - val_categorical_accuracy: 0.0773\n",
            "Epoch 12/100\n",
            "25/25 [==============================] - 5s 206ms/step - loss: 0.2209 - categorical_accuracy: 0.0828 - val_loss: 0.3978 - val_categorical_accuracy: 0.0928\n",
            "Epoch 13/100\n",
            "25/25 [==============================] - 5s 207ms/step - loss: 0.2227 - categorical_accuracy: 0.0970 - val_loss: 0.3919 - val_categorical_accuracy: 0.0825\n",
            "Epoch 14/100\n",
            "25/25 [==============================] - 5s 205ms/step - loss: 0.2212 - categorical_accuracy: 0.0906 - val_loss: 0.3954 - val_categorical_accuracy: 0.1186\n",
            "Epoch 15/100\n",
            "25/25 [==============================] - 5s 207ms/step - loss: 0.2212 - categorical_accuracy: 0.1035 - val_loss: 0.3946 - val_categorical_accuracy: 0.1031\n",
            "Epoch 16/100\n",
            "25/25 [==============================] - 5s 208ms/step - loss: 0.2193 - categorical_accuracy: 0.1087 - val_loss: 0.4002 - val_categorical_accuracy: 0.1289\n",
            "Epoch 17/100\n",
            "25/25 [==============================] - 5s 206ms/step - loss: 0.2193 - categorical_accuracy: 0.1074 - val_loss: 0.3971 - val_categorical_accuracy: 0.0876\n",
            "Epoch 18/100\n",
            "25/25 [==============================] - 5s 206ms/step - loss: 0.2179 - categorical_accuracy: 0.1216 - val_loss: 0.3945 - val_categorical_accuracy: 0.1134\n",
            "Epoch 19/100\n",
            "25/25 [==============================] - 7s 268ms/step - loss: 0.2183 - categorical_accuracy: 0.1087 - val_loss: 0.4067 - val_categorical_accuracy: 0.0825\n",
            "Epoch 20/100\n",
            "25/25 [==============================] - 7s 280ms/step - loss: 0.2163 - categorical_accuracy: 0.1307 - val_loss: 0.4074 - val_categorical_accuracy: 0.0928\n",
            "Epoch 21/100\n",
            "25/25 [==============================] - 5s 207ms/step - loss: 0.2168 - categorical_accuracy: 0.1113 - val_loss: 0.4023 - val_categorical_accuracy: 0.1082\n",
            "Epoch 22/100\n",
            "25/25 [==============================] - 6s 241ms/step - loss: 0.2151 - categorical_accuracy: 0.1332 - val_loss: 0.4021 - val_categorical_accuracy: 0.0979\n",
            "Epoch 23/100\n",
            "25/25 [==============================] - 5s 208ms/step - loss: 0.2159 - categorical_accuracy: 0.1527 - val_loss: 0.4058 - val_categorical_accuracy: 0.1186\n",
            "Epoch 24/100\n",
            "25/25 [==============================] - 5s 210ms/step - loss: 0.2153 - categorical_accuracy: 0.1125 - val_loss: 0.4073 - val_categorical_accuracy: 0.1186\n",
            "Epoch 25/100\n",
            "25/25 [==============================] - 5s 208ms/step - loss: 0.2116 - categorical_accuracy: 0.1488 - val_loss: 0.4100 - val_categorical_accuracy: 0.1082\n",
            "Epoch 26/100\n",
            "25/25 [==============================] - 5s 210ms/step - loss: 0.2136 - categorical_accuracy: 0.1164 - val_loss: 0.4114 - val_categorical_accuracy: 0.0825\n",
            "Epoch 27/100\n",
            "25/25 [==============================] - 5s 210ms/step - loss: 0.2116 - categorical_accuracy: 0.1268 - val_loss: 0.4269 - val_categorical_accuracy: 0.1134\n",
            "Epoch 28/100\n",
            "25/25 [==============================] - 5s 209ms/step - loss: 0.2086 - categorical_accuracy: 0.1320 - val_loss: 0.4257 - val_categorical_accuracy: 0.1237\n",
            "Epoch 29/100\n",
            "25/25 [==============================] - 5s 213ms/step - loss: 0.2099 - categorical_accuracy: 0.1177 - val_loss: 0.4141 - val_categorical_accuracy: 0.0979\n",
            "Epoch 30/100\n",
            "25/25 [==============================] - 6s 224ms/step - loss: 0.2094 - categorical_accuracy: 0.1151 - val_loss: 0.4153 - val_categorical_accuracy: 0.0928\n",
            "Epoch 31/100\n",
            "25/25 [==============================] - 6s 232ms/step - loss: 0.2090 - categorical_accuracy: 0.1281 - val_loss: 0.4258 - val_categorical_accuracy: 0.1289\n",
            "Epoch 32/100\n",
            "25/25 [==============================] - 5s 209ms/step - loss: 0.2059 - categorical_accuracy: 0.1087 - val_loss: 0.4249 - val_categorical_accuracy: 0.0928\n",
            "Epoch 33/100\n",
            "25/25 [==============================] - 5s 210ms/step - loss: 0.2080 - categorical_accuracy: 0.1255 - val_loss: 0.4270 - val_categorical_accuracy: 0.1289\n",
            "Epoch 34/100\n",
            "25/25 [==============================] - 5s 206ms/step - loss: 0.2065 - categorical_accuracy: 0.1113 - val_loss: 0.4247 - val_categorical_accuracy: 0.1082\n",
            "Epoch 35/100\n",
            "25/25 [==============================] - 5s 206ms/step - loss: 0.2049 - categorical_accuracy: 0.1268 - val_loss: 0.4259 - val_categorical_accuracy: 0.1289\n",
            "Epoch 36/100\n",
            "25/25 [==============================] - 5s 209ms/step - loss: 0.2055 - categorical_accuracy: 0.1255 - val_loss: 0.4227 - val_categorical_accuracy: 0.1186\n",
            "Epoch 37/100\n",
            "25/25 [==============================] - 5s 209ms/step - loss: 0.2056 - categorical_accuracy: 0.1138 - val_loss: 0.4395 - val_categorical_accuracy: 0.1598\n",
            "Epoch 38/100\n",
            "25/25 [==============================] - 5s 211ms/step - loss: 0.2057 - categorical_accuracy: 0.1074 - val_loss: 0.4282 - val_categorical_accuracy: 0.1082\n",
            "Epoch 39/100\n",
            "25/25 [==============================] - 5s 208ms/step - loss: 0.2045 - categorical_accuracy: 0.1100 - val_loss: 0.4441 - val_categorical_accuracy: 0.1031\n",
            "Epoch 40/100\n",
            "25/25 [==============================] - 5s 210ms/step - loss: 0.2070 - categorical_accuracy: 0.1203 - val_loss: 0.4318 - val_categorical_accuracy: 0.1289\n",
            "Epoch 41/100\n",
            "25/25 [==============================] - 5s 209ms/step - loss: 0.2036 - categorical_accuracy: 0.1151 - val_loss: 0.4372 - val_categorical_accuracy: 0.0928\n",
            "Epoch 42/100\n",
            "25/25 [==============================] - 5s 209ms/step - loss: 0.2036 - categorical_accuracy: 0.1565 - val_loss: 0.4547 - val_categorical_accuracy: 0.1546\n",
            "Epoch 43/100\n",
            "25/25 [==============================] - 5s 208ms/step - loss: 0.2057 - categorical_accuracy: 0.1527 - val_loss: 0.4416 - val_categorical_accuracy: 0.1186\n",
            "Epoch 44/100\n",
            "25/25 [==============================] - 5s 210ms/step - loss: 0.2042 - categorical_accuracy: 0.1216 - val_loss: 0.4426 - val_categorical_accuracy: 0.0876\n",
            "Epoch 45/100\n",
            "25/25 [==============================] - 5s 206ms/step - loss: 0.2013 - categorical_accuracy: 0.1061 - val_loss: 0.4479 - val_categorical_accuracy: 0.0361\n",
            "Epoch 46/100\n",
            "25/25 [==============================] - 5s 210ms/step - loss: 0.2011 - categorical_accuracy: 0.1009 - val_loss: 0.4503 - val_categorical_accuracy: 0.0670\n",
            "Epoch 47/100\n",
            "25/25 [==============================] - 5s 206ms/step - loss: 0.2011 - categorical_accuracy: 0.1035 - val_loss: 0.4484 - val_categorical_accuracy: 0.0567\n",
            "Epoch 48/100\n",
            "25/25 [==============================] - 5s 212ms/step - loss: 0.2003 - categorical_accuracy: 0.0867 - val_loss: 0.4471 - val_categorical_accuracy: 0.0464\n",
            "Epoch 49/100\n",
            "25/25 [==============================] - 5s 211ms/step - loss: 0.1997 - categorical_accuracy: 0.0841 - val_loss: 0.4501 - val_categorical_accuracy: 0.0773\n",
            "Epoch 50/100\n",
            "25/25 [==============================] - 5s 211ms/step - loss: 0.1988 - categorical_accuracy: 0.1203 - val_loss: 0.4507 - val_categorical_accuracy: 0.1031\n",
            "Epoch 51/100\n",
            "25/25 [==============================] - 5s 213ms/step - loss: 0.2002 - categorical_accuracy: 0.1307 - val_loss: 0.4597 - val_categorical_accuracy: 0.0876\n",
            "Epoch 52/100\n",
            "25/25 [==============================] - 5s 210ms/step - loss: 0.1980 - categorical_accuracy: 0.0983 - val_loss: 0.4622 - val_categorical_accuracy: 0.0515\n",
            "Epoch 53/100\n",
            "25/25 [==============================] - 5s 209ms/step - loss: 0.1996 - categorical_accuracy: 0.0983 - val_loss: 0.4440 - val_categorical_accuracy: 0.0722\n",
            "Epoch 54/100\n",
            "25/25 [==============================] - 5s 207ms/step - loss: 0.1969 - categorical_accuracy: 0.0996 - val_loss: 0.4533 - val_categorical_accuracy: 0.1134\n",
            "Epoch 55/100\n",
            "25/25 [==============================] - 5s 210ms/step - loss: 0.1982 - categorical_accuracy: 0.1216 - val_loss: 0.4592 - val_categorical_accuracy: 0.0670\n",
            "Epoch 56/100\n",
            "25/25 [==============================] - 5s 209ms/step - loss: 0.1963 - categorical_accuracy: 0.0983 - val_loss: 0.4499 - val_categorical_accuracy: 0.0464\n",
            "Epoch 57/100\n",
            "25/25 [==============================] - 5s 210ms/step - loss: 0.1971 - categorical_accuracy: 0.0763 - val_loss: 0.4563 - val_categorical_accuracy: 0.0567\n",
            "Epoch 58/100\n",
            "25/25 [==============================] - 5s 213ms/step - loss: 0.1963 - categorical_accuracy: 0.0841 - val_loss: 0.4529 - val_categorical_accuracy: 0.0928\n",
            "Epoch 59/100\n",
            "25/25 [==============================] - 5s 215ms/step - loss: 0.1920 - categorical_accuracy: 0.1203 - val_loss: 0.4595 - val_categorical_accuracy: 0.1082\n",
            "Epoch 60/100\n",
            "25/25 [==============================] - 5s 212ms/step - loss: 0.1933 - categorical_accuracy: 0.1048 - val_loss: 0.4651 - val_categorical_accuracy: 0.0928\n",
            "Epoch 61/100\n",
            "25/25 [==============================] - 5s 210ms/step - loss: 0.1939 - categorical_accuracy: 0.1022 - val_loss: 0.4695 - val_categorical_accuracy: 0.0928\n",
            "Epoch 62/100\n",
            "25/25 [==============================] - 5s 219ms/step - loss: 0.1935 - categorical_accuracy: 0.1177 - val_loss: 0.4647 - val_categorical_accuracy: 0.0979\n",
            "Epoch 63/100\n",
            "25/25 [==============================] - 5s 209ms/step - loss: 0.1945 - categorical_accuracy: 0.1268 - val_loss: 0.4613 - val_categorical_accuracy: 0.0928\n",
            "Epoch 64/100\n",
            "25/25 [==============================] - 5s 208ms/step - loss: 0.1930 - categorical_accuracy: 0.1216 - val_loss: 0.4574 - val_categorical_accuracy: 0.0928\n",
            "Epoch 65/100\n",
            "25/25 [==============================] - 5s 205ms/step - loss: 0.1921 - categorical_accuracy: 0.1281 - val_loss: 0.4567 - val_categorical_accuracy: 0.1082\n",
            "Epoch 66/100\n",
            "25/25 [==============================] - 5s 209ms/step - loss: 0.1918 - categorical_accuracy: 0.1022 - val_loss: 0.4662 - val_categorical_accuracy: 0.1031\n",
            "Epoch 67/100\n",
            "25/25 [==============================] - 5s 209ms/step - loss: 0.1916 - categorical_accuracy: 0.1242 - val_loss: 0.4657 - val_categorical_accuracy: 0.1289\n",
            "Epoch 68/100\n",
            "25/25 [==============================] - 5s 213ms/step - loss: 0.1913 - categorical_accuracy: 0.1074 - val_loss: 0.4600 - val_categorical_accuracy: 0.1082\n",
            "Epoch 69/100\n",
            "25/25 [==============================] - 5s 214ms/step - loss: 0.1940 - categorical_accuracy: 0.1177 - val_loss: 0.4664 - val_categorical_accuracy: 0.0876\n",
            "Epoch 70/100\n",
            "25/25 [==============================] - 5s 213ms/step - loss: 0.1914 - categorical_accuracy: 0.1100 - val_loss: 0.4642 - val_categorical_accuracy: 0.0825\n",
            "Epoch 71/100\n",
            "25/25 [==============================] - 5s 211ms/step - loss: 0.1913 - categorical_accuracy: 0.1281 - val_loss: 0.4561 - val_categorical_accuracy: 0.1134\n",
            "Epoch 72/100\n",
            "25/25 [==============================] - 5s 208ms/step - loss: 0.1912 - categorical_accuracy: 0.1294 - val_loss: 0.4661 - val_categorical_accuracy: 0.1031\n",
            "Epoch 73/100\n",
            "25/25 [==============================] - 5s 214ms/step - loss: 0.1882 - categorical_accuracy: 0.1384 - val_loss: 0.4604 - val_categorical_accuracy: 0.1289\n",
            "Epoch 74/100\n",
            "25/25 [==============================] - 5s 209ms/step - loss: 0.1905 - categorical_accuracy: 0.1397 - val_loss: 0.4623 - val_categorical_accuracy: 0.1186\n",
            "Epoch 75/100\n",
            "25/25 [==============================] - 5s 210ms/step - loss: 0.1867 - categorical_accuracy: 0.1397 - val_loss: 0.4561 - val_categorical_accuracy: 0.0928\n",
            "Epoch 76/100\n",
            "25/25 [==============================] - 5s 209ms/step - loss: 0.1884 - categorical_accuracy: 0.1281 - val_loss: 0.4603 - val_categorical_accuracy: 0.0979\n",
            "Epoch 77/100\n",
            "25/25 [==============================] - 5s 210ms/step - loss: 0.1910 - categorical_accuracy: 0.1514 - val_loss: 0.4633 - val_categorical_accuracy: 0.1186\n",
            "Epoch 78/100\n",
            "25/25 [==============================] - 6s 238ms/step - loss: 0.1907 - categorical_accuracy: 0.1345 - val_loss: 0.4509 - val_categorical_accuracy: 0.1340\n",
            "Epoch 79/100\n",
            "25/25 [==============================] - 5s 219ms/step - loss: 0.1911 - categorical_accuracy: 0.1242 - val_loss: 0.4600 - val_categorical_accuracy: 0.1392\n",
            "Epoch 80/100\n",
            "25/25 [==============================] - 5s 211ms/step - loss: 0.1895 - categorical_accuracy: 0.1371 - val_loss: 0.4582 - val_categorical_accuracy: 0.1340\n",
            "Epoch 81/100\n",
            "25/25 [==============================] - 5s 210ms/step - loss: 0.1899 - categorical_accuracy: 0.1229 - val_loss: 0.4519 - val_categorical_accuracy: 0.1237\n",
            "Epoch 82/100\n",
            "25/25 [==============================] - 5s 215ms/step - loss: 0.1876 - categorical_accuracy: 0.1022 - val_loss: 0.4564 - val_categorical_accuracy: 0.1186\n",
            "Epoch 83/100\n",
            "25/25 [==============================] - 5s 210ms/step - loss: 0.1856 - categorical_accuracy: 0.0996 - val_loss: 0.4518 - val_categorical_accuracy: 0.1237\n",
            "Epoch 84/100\n",
            "25/25 [==============================] - 5s 210ms/step - loss: 0.1861 - categorical_accuracy: 0.1216 - val_loss: 0.4504 - val_categorical_accuracy: 0.1031\n",
            "Epoch 85/100\n",
            "25/25 [==============================] - 5s 211ms/step - loss: 0.1868 - categorical_accuracy: 0.0918 - val_loss: 0.4650 - val_categorical_accuracy: 0.0773\n",
            "Epoch 86/100\n",
            "25/25 [==============================] - 5s 212ms/step - loss: 0.1843 - categorical_accuracy: 0.1061 - val_loss: 0.4661 - val_categorical_accuracy: 0.1186\n",
            "Epoch 87/100\n",
            "25/25 [==============================] - 6s 227ms/step - loss: 0.1822 - categorical_accuracy: 0.1281 - val_loss: 0.4693 - val_categorical_accuracy: 0.0979\n",
            "Epoch 88/100\n",
            "25/25 [==============================] - 6s 235ms/step - loss: 0.1837 - categorical_accuracy: 0.1307 - val_loss: 0.4657 - val_categorical_accuracy: 0.0876\n",
            "Epoch 89/100\n",
            "25/25 [==============================] - 6s 233ms/step - loss: 0.1837 - categorical_accuracy: 0.0931 - val_loss: 0.4795 - val_categorical_accuracy: 0.0825\n",
            "Epoch 90/100\n",
            "25/25 [==============================] - 6s 230ms/step - loss: 0.1840 - categorical_accuracy: 0.1061 - val_loss: 0.4785 - val_categorical_accuracy: 0.1082\n",
            "Epoch 91/100\n",
            "25/25 [==============================] - 5s 213ms/step - loss: 0.1820 - categorical_accuracy: 0.1100 - val_loss: 0.4846 - val_categorical_accuracy: 0.1237\n",
            "Epoch 92/100\n",
            "25/25 [==============================] - 5s 210ms/step - loss: 0.1815 - categorical_accuracy: 0.0996 - val_loss: 0.4782 - val_categorical_accuracy: 0.0825\n",
            "Epoch 93/100\n",
            "25/25 [==============================] - 5s 211ms/step - loss: 0.1817 - categorical_accuracy: 0.0854 - val_loss: 0.4875 - val_categorical_accuracy: 0.0928\n",
            "Epoch 94/100\n",
            "25/25 [==============================] - 5s 210ms/step - loss: 0.1812 - categorical_accuracy: 0.1216 - val_loss: 0.4931 - val_categorical_accuracy: 0.0670\n",
            "Epoch 95/100\n",
            "25/25 [==============================] - 5s 212ms/step - loss: 0.1805 - categorical_accuracy: 0.1268 - val_loss: 0.4878 - val_categorical_accuracy: 0.1186\n",
            "Epoch 96/100\n",
            "25/25 [==============================] - 5s 212ms/step - loss: 0.1828 - categorical_accuracy: 0.1294 - val_loss: 0.4915 - val_categorical_accuracy: 0.1340\n",
            "Epoch 97/100\n",
            "25/25 [==============================] - 5s 212ms/step - loss: 0.1836 - categorical_accuracy: 0.1177 - val_loss: 0.4804 - val_categorical_accuracy: 0.1031\n",
            "Epoch 98/100\n",
            "25/25 [==============================] - 5s 212ms/step - loss: 0.1829 - categorical_accuracy: 0.0931 - val_loss: 0.4879 - val_categorical_accuracy: 0.1186\n",
            "Epoch 99/100\n",
            "25/25 [==============================] - 5s 211ms/step - loss: 0.1814 - categorical_accuracy: 0.1332 - val_loss: 0.4914 - val_categorical_accuracy: 0.1031\n",
            "Epoch 100/100\n",
            "25/25 [==============================] - 5s 211ms/step - loss: 0.1804 - categorical_accuracy: 0.1190 - val_loss: 0.4874 - val_categorical_accuracy: 0.1340\n"
          ],
          "name": "stdout"
        }
      ]
    },
    {
      "cell_type": "code",
      "metadata": {
        "id": "0FQAU2iutsn2",
        "colab": {
          "base_uri": "https://localhost:8080/",
          "height": 661
        },
        "outputId": "8cc7c2d6-8c32-4bc3-b0c9-6faca25f8c12"
      },
      "source": [
        "from keras.utils import plot_model\n",
        "plot_model(model, to_file='lstm_model.png')"
      ],
      "execution_count": null,
      "outputs": [
        {
          "output_type": "execute_result",
          "data": {
            "image/png": "[encoded data removed]",
            "text/plain": [
              "<IPython.core.display.Image object>"
            ]
          },
          "metadata": {
            "tags": []
          },
          "execution_count": 224
        }
      ]
    },
    {
      "cell_type": "code",
      "metadata": {
        "id": "qwsxsxAkkRcV",
        "colab": {
          "base_uri": "https://localhost:8080/",
          "height": 295
        },
        "outputId": "c90e0b56-e01f-42a1-d9f0-641a9619e3d3"
      },
      "source": [
        "loss_train = history.history['loss']\n",
        "loss_val = history.history['val_loss']\n",
        "epochs = range(1,len(loss_train)+1)\n",
        "plt.figure()\n",
        "plt.plot(epochs, loss_train, 'g', label='Training loss')\n",
        "plt.plot(epochs, loss_val, 'b', label='validation loss')\n",
        "plt.title('Training and Validation loss')\n",
        "plt.xlabel('Epochs')\n",
        "plt.ylabel('Loss')\n",
        "plt.legend()\n",
        "plt.show()"
      ],
      "execution_count": null,
      "outputs": [
        {
          "output_type": "display_data",
          "data": {
            "image/png": "[encoded data removed]",
            "text/plain": [
              "<Figure size 432x288 with 1 Axes>"
            ]
          },
          "metadata": {
            "tags": [],
            "needs_background": "light"
          }
        }
      ]
    },
    {
      "cell_type": "code",
      "metadata": {
        "id": "Ijzywr9nkSXe",
        "colab": {
          "base_uri": "https://localhost:8080/",
          "height": 295
        },
        "outputId": "5817a66a-347b-488d-8246-1ad8f872482e"
      },
      "source": [
        "train_acc = history.history['categorical_accuracy']\n",
        "val_acc = history.history['val_categorical_accuracy']\n",
        "plt.figure()\n",
        "epochs = range(1,len(train_acc)+1)\n",
        "plt.plot(epochs, train_acc, 'g', label='Training Accuracy')\n",
        "plt.plot(epochs, val_acc, 'b', label='validation Accuracy')\n",
        "plt.title('Training and Validation Accuracy')\n",
        "plt.xlabel('Epochs')\n",
        "plt.ylabel('Accuracy')\n",
        "plt.legend()\n",
        "plt.show()"
      ],
      "execution_count": null,
      "outputs": [
        {
          "output_type": "display_data",
          "data": {
            "image/png": "[encoded data removed]",
            "text/plain": [
              "<Figure size 432x288 with 1 Axes>"
            ]
          },
          "metadata": {
            "tags": [],
            "needs_background": "light"
          }
        }
      ]
    },
    {
      "cell_type": "markdown",
      "metadata": {
        "id": "Lp9bt8mKi8l6"
      },
      "source": [
        "**Note** : The second model is not optimize right now and i am still working to make it better"
      ]
    },
    {
      "cell_type": "code",
      "metadata": {
        "id": "61-zIa2CghBq"
      },
      "source": [
        ""
      ],
      "execution_count": null,
      "outputs": []
    }
  ]
}